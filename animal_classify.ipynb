{
 "cells": [
  {
   "cell_type": "code",
   "execution_count": null,
   "metadata": {
    "execution": {
     "iopub.execute_input": "2022-03-19T02:03:18.522742Z",
     "iopub.status.busy": "2022-03-19T02:03:18.522489Z",
     "iopub.status.idle": "2022-03-19T02:03:22.958592Z",
     "shell.execute_reply": "2022-03-19T02:03:22.957809Z",
     "shell.execute_reply.started": "2022-03-19T02:03:18.522711Z"
    }
   },
   "outputs": [],
   "source": [
    "import numpy as np\n",
    "import tensorflow as tf\n",
    "from tensorflow import keras\n",
    "from keras.preprocessing.image import ImageDataGenerator\n",
    "from keras import layers\n",
    "from keras import Model\n",
    "from keras.layers import Dropout, Dense, GlobalAveragePooling2D\n",
    "from keras.applications.inception_v3 import InceptionV3"
   ]
  },
  {
   "cell_type": "code",
   "execution_count": null,
   "metadata": {
    "execution": {
     "iopub.execute_input": "2022-03-19T02:03:28.155329Z",
     "iopub.status.busy": "2022-03-19T02:03:28.154780Z",
     "iopub.status.idle": "2022-03-19T02:03:29.280498Z",
     "shell.execute_reply": "2022-03-19T02:03:29.279339Z",
     "shell.execute_reply.started": "2022-03-19T02:03:28.155293Z"
    }
   },
   "outputs": [],
   "source": [
    "batch_size=64\n",
    "data_dir = \"data/animals\"\n",
    "\n",
    "train_datagen = ImageDataGenerator(rescale = 1./255,\n",
    "        validation_split=0.2,\n",
    "        rotation_range=35,\n",
    "        width_shift_range=0.25,\n",
    "        preprocessing_function=tf.keras.applications.resnet.preprocess_input,\n",
    "        height_shift_range=0.25,\n",
    "        shear_range=0.25,\n",
    "        zoom_range=0.25,\n",
    "        horizontal_flip=True,\n",
    "        fill_mode='nearest')\n",
    "validation_datagen = ImageDataGenerator(rescale = 1./255,validation_split=0.2)\n",
    "\n",
    "\n",
    "train_generator = train_datagen.flow_from_directory(data_dir,\n",
    "    target_size=(299,299),\n",
    "    class_mode='categorical',\n",
    "    batch_size=batch_size,\n",
    "    subset = \"training\")\n",
    "validation_generator = validation_datagen.flow_from_directory(data_dir,\n",
    "    target_size=(299,299),\n",
    "    class_mode='categorical',\n",
    "    batch_size=batch_size,\n",
    "    subset = \"validation\")\n",
    "\n",
    "labels = {v: k for k, v in train_generator.class_indices.items()}"
   ]
  },
  {
   "cell_type": "code",
   "execution_count": null,
   "metadata": {
    "execution": {
     "iopub.execute_input": "2022-03-19T02:03:29.283046Z",
     "iopub.status.busy": "2022-03-19T02:03:29.282159Z",
     "iopub.status.idle": "2022-03-19T02:03:33.336786Z",
     "shell.execute_reply": "2022-03-19T02:03:33.335903Z",
     "shell.execute_reply.started": "2022-03-19T02:03:29.282983Z"
    }
   },
   "outputs": [],
   "source": [
    "pre_trained_model = InceptionV3(input_shape=(299, 299, 3), include_top=True, weights='imagenet')\n",
    "\n",
    "for layer in pre_trained_model.layers:\n",
    "  layer.trainable = False\n",
    "\n",
    "last_output = pre_trained_model.get_layer('mixed10').output"
   ]
  },
  {
   "cell_type": "code",
   "execution_count": null,
   "metadata": {
    "execution": {
     "iopub.execute_input": "2022-03-19T02:03:33.485169Z",
     "iopub.status.busy": "2022-03-19T02:03:33.484785Z",
     "iopub.status.idle": "2022-03-19T02:03:33.677329Z",
     "shell.execute_reply": "2022-03-19T02:03:33.676684Z",
     "shell.execute_reply.started": "2022-03-19T02:03:33.485134Z"
    }
   },
   "outputs": [],
   "source": [
    "x = layers.Dense(1024, activation='relu')(last_output)\n",
    "x = layers.Dropout(0.2)(x)  \n",
    "x = layers.GlobalAveragePooling2D()(x)\n",
    "x = layers.Dense(90, activation='softmax')(x)           \n",
    "model = Model(pre_trained_model.input, x) "
   ]
  },
  {
   "cell_type": "code",
   "execution_count": null,
   "metadata": {},
   "outputs": [],
   "source": [
    "model.summary()"
   ]
  },
  {
   "cell_type": "code",
   "execution_count": null,
   "metadata": {
    "execution": {
     "iopub.execute_input": "2022-03-19T02:03:33.678659Z",
     "iopub.status.busy": "2022-03-19T02:03:33.678393Z",
     "iopub.status.idle": "2022-03-19T02:03:33.700003Z",
     "shell.execute_reply": "2022-03-19T02:03:33.699388Z",
     "shell.execute_reply.started": "2022-03-19T02:03:33.678623Z"
    }
   },
   "outputs": [],
   "source": [
    "model.compile(optimizer='rmsprop', \n",
    "              loss=tf.keras.losses.CategoricalCrossentropy(from_logits=True), \n",
    "              metrics=['accuracy'])"
   ]
  },
  {
   "cell_type": "code",
   "execution_count": null,
   "metadata": {},
   "outputs": [],
   "source": [
    "load_model = True\n",
    "if load_model:\n",
    "    model = keras.models.load_model('FinalModel.h5')"
   ]
  },
  {
   "cell_type": "code",
   "execution_count": null,
   "metadata": {
    "execution": {
     "iopub.execute_input": "2022-03-19T02:04:02.962371Z",
     "iopub.status.busy": "2022-03-19T02:04:02.961829Z",
     "iopub.status.idle": "2022-03-19T02:24:53.423282Z",
     "shell.execute_reply": "2022-03-19T02:24:53.422584Z",
     "shell.execute_reply.started": "2022-03-19T02:04:02.962331Z"
    }
   },
   "outputs": [],
   "source": [
    "if not load_model:\n",
    "    history = model.fit(train_generator,\n",
    "                        validation_data=validation_generator,\n",
    "                        epochs=10)"
   ]
  },
  {
   "cell_type": "code",
   "execution_count": null,
   "metadata": {},
   "outputs": [],
   "source": [
    "model.evaluate(validation_generator)"
   ]
  },
  {
   "cell_type": "code",
   "execution_count": null,
   "metadata": {},
   "outputs": [],
   "source": [
    "#model.save('FinalModel.h5')"
   ]
  },
  {
   "cell_type": "code",
   "execution_count": null,
   "metadata": {},
   "outputs": [],
   "source": [
    "testing_datagen = ImageDataGenerator(rescale = 1./255,validation_split=0)\n",
    "testing_data = testing_datagen.flow_from_directory('testing_images',\n",
    "    target_size=(299,299),\n",
    "    class_mode=None,\n",
    "    batch_size=1,\n",
    "    subset=\"training\")"
   ]
  },
  {
   "cell_type": "code",
   "execution_count": null,
   "metadata": {
    "scrolled": true
   },
   "outputs": [],
   "source": [
    "np.argmax(model.predict(testing_data))"
   ]
  },
  {
   "cell_type": "code",
   "execution_count": null,
   "metadata": {},
   "outputs": [],
   "source": [
    "labels[np.argmax(model.predict(testing_data))]"
   ]
  }
 ],
 "metadata": {
  "kernelspec": {
   "display_name": "Python 3 (ipykernel)",
   "language": "python",
   "name": "python3"
  },
  "language_info": {
   "codemirror_mode": {
    "name": "ipython",
    "version": 3
   },
   "file_extension": ".py",
   "mimetype": "text/x-python",
   "name": "python",
   "nbconvert_exporter": "python",
   "pygments_lexer": "ipython3",
   "version": "3.9.13"
  }
 },
 "nbformat": 4,
 "nbformat_minor": 4
}
